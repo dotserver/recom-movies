{
 "cells": [
  {
   "cell_type": "code",
   "execution_count": 1,
   "id": "traditional-catering",
   "metadata": {},
   "outputs": [],
   "source": [
    "#importing libraries\n",
    "import pandas as pd\n",
    "import numpy as np\n",
    "from matplotlib import pyplot as plt\n",
    "%matplotlib inline\n",
    "import seaborn as sns\n",
    "from sklearn.feature_extraction.text import TfidfVectorizer\n",
    "from sklearn.metrics.pairwise import linear_kernel"
   ]
  },
  {
   "cell_type": "code",
   "execution_count": 2,
   "id": "still-pottery",
   "metadata": {},
   "outputs": [
    {
     "data": {
      "text/html": [
       "<div>\n",
       "<style scoped>\n",
       "    .dataframe tbody tr th:only-of-type {\n",
       "        vertical-align: middle;\n",
       "    }\n",
       "\n",
       "    .dataframe tbody tr th {\n",
       "        vertical-align: top;\n",
       "    }\n",
       "\n",
       "    .dataframe thead th {\n",
       "        text-align: right;\n",
       "    }\n",
       "</style>\n",
       "<table border=\"1\" class=\"dataframe\">\n",
       "  <thead>\n",
       "    <tr style=\"text-align: right;\">\n",
       "      <th></th>\n",
       "      <th>show_id</th>\n",
       "      <th>type</th>\n",
       "      <th>title</th>\n",
       "      <th>director</th>\n",
       "      <th>cast</th>\n",
       "      <th>country</th>\n",
       "      <th>date_added</th>\n",
       "      <th>release_year</th>\n",
       "      <th>rating</th>\n",
       "      <th>duration</th>\n",
       "      <th>listed_in</th>\n",
       "      <th>description</th>\n",
       "    </tr>\n",
       "  </thead>\n",
       "  <tbody>\n",
       "    <tr>\n",
       "      <th>5453</th>\n",
       "      <td>s5454</td>\n",
       "      <td>Movie</td>\n",
       "      <td>Sebastian Maniscalco: Stay Hungry</td>\n",
       "      <td>Rik Reinholdtsen</td>\n",
       "      <td>Sebastian Maniscalco</td>\n",
       "      <td>United States</td>\n",
       "      <td>January 15, 2019</td>\n",
       "      <td>2019</td>\n",
       "      <td>TV-MA</td>\n",
       "      <td>65 min</td>\n",
       "      <td>Stand-Up Comedy</td>\n",
       "      <td>Sebastian Maniscalco brings an acerbically uni...</td>\n",
       "    </tr>\n",
       "    <tr>\n",
       "      <th>5454</th>\n",
       "      <td>s5455</td>\n",
       "      <td>Movie</td>\n",
       "      <td>Sebastian Maniscalco: What's Wrong with People?</td>\n",
       "      <td>Manny Rodriguez</td>\n",
       "      <td>Sebastian Maniscalco</td>\n",
       "      <td>United States</td>\n",
       "      <td>September 17, 2019</td>\n",
       "      <td>2012</td>\n",
       "      <td>TV-MA</td>\n",
       "      <td>76 min</td>\n",
       "      <td>Stand-Up Comedy</td>\n",
       "      <td>With his uproarious tirade on modern behavior ...</td>\n",
       "    </tr>\n",
       "    <tr>\n",
       "      <th>5455</th>\n",
       "      <td>s5456</td>\n",
       "      <td>Movie</td>\n",
       "      <td>Sebastian Maniscalco: Why Would You Do That</td>\n",
       "      <td>Joe DeMaio</td>\n",
       "      <td>Sebastian Maniscalco</td>\n",
       "      <td>United States</td>\n",
       "      <td>August 6, 2019</td>\n",
       "      <td>2016</td>\n",
       "      <td>TV-MA</td>\n",
       "      <td>63 min</td>\n",
       "      <td>Stand-Up Comedy</td>\n",
       "      <td>Sebastian Maniscalco delivers an expressive st...</td>\n",
       "    </tr>\n",
       "    <tr>\n",
       "      <th>5456</th>\n",
       "      <td>s5457</td>\n",
       "      <td>TV Show</td>\n",
       "      <td>Second 20s</td>\n",
       "      <td>NaN</td>\n",
       "      <td>Choi Ji-woo, Lee Sang-yun, Choi Won-young, Kim...</td>\n",
       "      <td>South Korea</td>\n",
       "      <td>October 16, 2019</td>\n",
       "      <td>2015</td>\n",
       "      <td>TV-14</td>\n",
       "      <td>1 Season</td>\n",
       "      <td>International TV Shows, Korean TV Shows, Roman...</td>\n",
       "      <td>Facing major changes, a mother realizes it's t...</td>\n",
       "    </tr>\n",
       "    <tr>\n",
       "      <th>5457</th>\n",
       "      <td>s5458</td>\n",
       "      <td>Movie</td>\n",
       "      <td>Secret</td>\n",
       "      <td>Jay Chou</td>\n",
       "      <td>Jay Chou, Lun-Mei Kwai, Anthony Wong Chau-Sang...</td>\n",
       "      <td>Hong Kong, Taiwan</td>\n",
       "      <td>July 1, 2018</td>\n",
       "      <td>2007</td>\n",
       "      <td>TV-PG</td>\n",
       "      <td>101 min</td>\n",
       "      <td>Dramas, International Movies, Music &amp; Musicals</td>\n",
       "      <td>Enchanted by a pretty pianist and the haunting...</td>\n",
       "    </tr>\n",
       "  </tbody>\n",
       "</table>\n",
       "</div>"
      ],
      "text/plain": [
       "     show_id     type                                            title  \\\n",
       "5453   s5454    Movie                Sebastian Maniscalco: Stay Hungry   \n",
       "5454   s5455    Movie  Sebastian Maniscalco: What's Wrong with People?   \n",
       "5455   s5456    Movie      Sebastian Maniscalco: Why Would You Do That   \n",
       "5456   s5457  TV Show                                       Second 20s   \n",
       "5457   s5458    Movie                                           Secret   \n",
       "\n",
       "              director                                               cast  \\\n",
       "5453  Rik Reinholdtsen                               Sebastian Maniscalco   \n",
       "5454   Manny Rodriguez                               Sebastian Maniscalco   \n",
       "5455        Joe DeMaio                               Sebastian Maniscalco   \n",
       "5456               NaN  Choi Ji-woo, Lee Sang-yun, Choi Won-young, Kim...   \n",
       "5457          Jay Chou  Jay Chou, Lun-Mei Kwai, Anthony Wong Chau-Sang...   \n",
       "\n",
       "                country          date_added  release_year rating  duration  \\\n",
       "5453      United States    January 15, 2019          2019  TV-MA    65 min   \n",
       "5454      United States  September 17, 2019          2012  TV-MA    76 min   \n",
       "5455      United States      August 6, 2019          2016  TV-MA    63 min   \n",
       "5456        South Korea    October 16, 2019          2015  TV-14  1 Season   \n",
       "5457  Hong Kong, Taiwan        July 1, 2018          2007  TV-PG   101 min   \n",
       "\n",
       "                                              listed_in  \\\n",
       "5453                                    Stand-Up Comedy   \n",
       "5454                                    Stand-Up Comedy   \n",
       "5455                                    Stand-Up Comedy   \n",
       "5456  International TV Shows, Korean TV Shows, Roman...   \n",
       "5457     Dramas, International Movies, Music & Musicals   \n",
       "\n",
       "                                            description  \n",
       "5453  Sebastian Maniscalco brings an acerbically uni...  \n",
       "5454  With his uproarious tirade on modern behavior ...  \n",
       "5455  Sebastian Maniscalco delivers an expressive st...  \n",
       "5456  Facing major changes, a mother realizes it's t...  \n",
       "5457  Enchanted by a pretty pianist and the haunting...  "
      ]
     },
     "execution_count": 2,
     "metadata": {},
     "output_type": "execute_result"
    }
   ],
   "source": [
    "#loading data\n",
    "df = pd.read_csv('netflix_titles.csv')\n",
    "df.iloc[5453:5458,:] #reading a random sample from the data"
   ]
  },
  {
   "cell_type": "code",
   "execution_count": 3,
   "id": "north-outside",
   "metadata": {},
   "outputs": [],
   "source": [
    "#creating a separate df for only movies\n",
    "df_movies = (df[df['type'] == 'Movie']).reset_index()"
   ]
  },
  {
   "cell_type": "code",
   "execution_count": 4,
   "id": "generous-suggestion",
   "metadata": {},
   "outputs": [
    {
     "name": "stdout",
     "output_type": "stream",
     "text": [
      "<class 'pandas.core.frame.DataFrame'>\n",
      "RangeIndex: 7787 entries, 0 to 7786\n",
      "Data columns (total 12 columns):\n",
      " #   Column        Non-Null Count  Dtype \n",
      "---  ------        --------------  ----- \n",
      " 0   show_id       7787 non-null   object\n",
      " 1   type          7787 non-null   object\n",
      " 2   title         7787 non-null   object\n",
      " 3   director      5398 non-null   object\n",
      " 4   cast          7069 non-null   object\n",
      " 5   country       7280 non-null   object\n",
      " 6   date_added    7777 non-null   object\n",
      " 7   release_year  7787 non-null   int64 \n",
      " 8   rating        7780 non-null   object\n",
      " 9   duration      7787 non-null   object\n",
      " 10  listed_in     7787 non-null   object\n",
      " 11  description   7787 non-null   object\n",
      "dtypes: int64(1), object(11)\n",
      "memory usage: 730.2+ KB\n"
     ]
    }
   ],
   "source": [
    "df.info()"
   ]
  },
  {
   "cell_type": "code",
   "execution_count": 5,
   "id": "widespread-strain",
   "metadata": {},
   "outputs": [
    {
     "name": "stdout",
     "output_type": "stream",
     "text": [
      "<class 'pandas.core.frame.DataFrame'>\n",
      "RangeIndex: 7787 entries, 0 to 7786\n",
      "Data columns (total 12 columns):\n",
      " #   Column        Non-Null Count  Dtype \n",
      "---  ------        --------------  ----- \n",
      " 0   show_id       7787 non-null   object\n",
      " 1   type          7787 non-null   object\n",
      " 2   title         7787 non-null   object\n",
      " 3   director      5398 non-null   object\n",
      " 4   cast          7069 non-null   object\n",
      " 5   country       7280 non-null   object\n",
      " 6   date_added    7777 non-null   object\n",
      " 7   release_year  7787 non-null   int64 \n",
      " 8   rating        7780 non-null   object\n",
      " 9   duration      7787 non-null   object\n",
      " 10  listed_in     7787 non-null   object\n",
      " 11  description   7787 non-null   object\n",
      "dtypes: int64(1), object(11)\n",
      "memory usage: 730.2+ KB\n"
     ]
    }
   ],
   "source": [
    "# a concise summary of the data frame\n",
    "df.info()"
   ]
  },
  {
   "cell_type": "code",
   "execution_count": 6,
   "id": "3a107f0c",
   "metadata": {},
   "outputs": [
    {
     "data": {
      "text/html": [
       "<div>\n",
       "<style scoped>\n",
       "    .dataframe tbody tr th:only-of-type {\n",
       "        vertical-align: middle;\n",
       "    }\n",
       "\n",
       "    .dataframe tbody tr th {\n",
       "        vertical-align: top;\n",
       "    }\n",
       "\n",
       "    .dataframe thead th {\n",
       "        text-align: right;\n",
       "    }\n",
       "</style>\n",
       "<table border=\"1\" class=\"dataframe\">\n",
       "  <thead>\n",
       "    <tr style=\"text-align: right;\">\n",
       "      <th></th>\n",
       "      <th>show_id</th>\n",
       "      <th>type</th>\n",
       "      <th>title</th>\n",
       "      <th>director</th>\n",
       "      <th>cast</th>\n",
       "      <th>country</th>\n",
       "      <th>date_added</th>\n",
       "      <th>release_year</th>\n",
       "      <th>rating</th>\n",
       "      <th>duration</th>\n",
       "      <th>listed_in</th>\n",
       "      <th>description</th>\n",
       "    </tr>\n",
       "  </thead>\n",
       "  <tbody>\n",
       "    <tr>\n",
       "      <th>count</th>\n",
       "      <td>7787</td>\n",
       "      <td>7787</td>\n",
       "      <td>7787</td>\n",
       "      <td>5398</td>\n",
       "      <td>7069</td>\n",
       "      <td>7280</td>\n",
       "      <td>7777</td>\n",
       "      <td>7787.000000</td>\n",
       "      <td>7780</td>\n",
       "      <td>7787</td>\n",
       "      <td>7787</td>\n",
       "      <td>7787</td>\n",
       "    </tr>\n",
       "    <tr>\n",
       "      <th>unique</th>\n",
       "      <td>7787</td>\n",
       "      <td>2</td>\n",
       "      <td>7787</td>\n",
       "      <td>4049</td>\n",
       "      <td>6831</td>\n",
       "      <td>681</td>\n",
       "      <td>1565</td>\n",
       "      <td>NaN</td>\n",
       "      <td>14</td>\n",
       "      <td>216</td>\n",
       "      <td>492</td>\n",
       "      <td>7769</td>\n",
       "    </tr>\n",
       "    <tr>\n",
       "      <th>top</th>\n",
       "      <td>s6461</td>\n",
       "      <td>Movie</td>\n",
       "      <td>Killing Them Softly</td>\n",
       "      <td>Raúl Campos, Jan Suter</td>\n",
       "      <td>David Attenborough</td>\n",
       "      <td>United States</td>\n",
       "      <td>January 1, 2020</td>\n",
       "      <td>NaN</td>\n",
       "      <td>TV-MA</td>\n",
       "      <td>1 Season</td>\n",
       "      <td>Documentaries</td>\n",
       "      <td>A surly septuagenarian gets another chance at ...</td>\n",
       "    </tr>\n",
       "    <tr>\n",
       "      <th>freq</th>\n",
       "      <td>1</td>\n",
       "      <td>5377</td>\n",
       "      <td>1</td>\n",
       "      <td>18</td>\n",
       "      <td>18</td>\n",
       "      <td>2555</td>\n",
       "      <td>118</td>\n",
       "      <td>NaN</td>\n",
       "      <td>2863</td>\n",
       "      <td>1608</td>\n",
       "      <td>334</td>\n",
       "      <td>3</td>\n",
       "    </tr>\n",
       "    <tr>\n",
       "      <th>mean</th>\n",
       "      <td>NaN</td>\n",
       "      <td>NaN</td>\n",
       "      <td>NaN</td>\n",
       "      <td>NaN</td>\n",
       "      <td>NaN</td>\n",
       "      <td>NaN</td>\n",
       "      <td>NaN</td>\n",
       "      <td>2013.932580</td>\n",
       "      <td>NaN</td>\n",
       "      <td>NaN</td>\n",
       "      <td>NaN</td>\n",
       "      <td>NaN</td>\n",
       "    </tr>\n",
       "    <tr>\n",
       "      <th>std</th>\n",
       "      <td>NaN</td>\n",
       "      <td>NaN</td>\n",
       "      <td>NaN</td>\n",
       "      <td>NaN</td>\n",
       "      <td>NaN</td>\n",
       "      <td>NaN</td>\n",
       "      <td>NaN</td>\n",
       "      <td>8.757395</td>\n",
       "      <td>NaN</td>\n",
       "      <td>NaN</td>\n",
       "      <td>NaN</td>\n",
       "      <td>NaN</td>\n",
       "    </tr>\n",
       "    <tr>\n",
       "      <th>min</th>\n",
       "      <td>NaN</td>\n",
       "      <td>NaN</td>\n",
       "      <td>NaN</td>\n",
       "      <td>NaN</td>\n",
       "      <td>NaN</td>\n",
       "      <td>NaN</td>\n",
       "      <td>NaN</td>\n",
       "      <td>1925.000000</td>\n",
       "      <td>NaN</td>\n",
       "      <td>NaN</td>\n",
       "      <td>NaN</td>\n",
       "      <td>NaN</td>\n",
       "    </tr>\n",
       "    <tr>\n",
       "      <th>25%</th>\n",
       "      <td>NaN</td>\n",
       "      <td>NaN</td>\n",
       "      <td>NaN</td>\n",
       "      <td>NaN</td>\n",
       "      <td>NaN</td>\n",
       "      <td>NaN</td>\n",
       "      <td>NaN</td>\n",
       "      <td>2013.000000</td>\n",
       "      <td>NaN</td>\n",
       "      <td>NaN</td>\n",
       "      <td>NaN</td>\n",
       "      <td>NaN</td>\n",
       "    </tr>\n",
       "    <tr>\n",
       "      <th>50%</th>\n",
       "      <td>NaN</td>\n",
       "      <td>NaN</td>\n",
       "      <td>NaN</td>\n",
       "      <td>NaN</td>\n",
       "      <td>NaN</td>\n",
       "      <td>NaN</td>\n",
       "      <td>NaN</td>\n",
       "      <td>2017.000000</td>\n",
       "      <td>NaN</td>\n",
       "      <td>NaN</td>\n",
       "      <td>NaN</td>\n",
       "      <td>NaN</td>\n",
       "    </tr>\n",
       "    <tr>\n",
       "      <th>75%</th>\n",
       "      <td>NaN</td>\n",
       "      <td>NaN</td>\n",
       "      <td>NaN</td>\n",
       "      <td>NaN</td>\n",
       "      <td>NaN</td>\n",
       "      <td>NaN</td>\n",
       "      <td>NaN</td>\n",
       "      <td>2018.000000</td>\n",
       "      <td>NaN</td>\n",
       "      <td>NaN</td>\n",
       "      <td>NaN</td>\n",
       "      <td>NaN</td>\n",
       "    </tr>\n",
       "    <tr>\n",
       "      <th>max</th>\n",
       "      <td>NaN</td>\n",
       "      <td>NaN</td>\n",
       "      <td>NaN</td>\n",
       "      <td>NaN</td>\n",
       "      <td>NaN</td>\n",
       "      <td>NaN</td>\n",
       "      <td>NaN</td>\n",
       "      <td>2021.000000</td>\n",
       "      <td>NaN</td>\n",
       "      <td>NaN</td>\n",
       "      <td>NaN</td>\n",
       "      <td>NaN</td>\n",
       "    </tr>\n",
       "  </tbody>\n",
       "</table>\n",
       "</div>"
      ],
      "text/plain": [
       "       show_id   type                title                director  \\\n",
       "count     7787   7787                 7787                    5398   \n",
       "unique    7787      2                 7787                    4049   \n",
       "top      s6461  Movie  Killing Them Softly  Raúl Campos, Jan Suter   \n",
       "freq         1   5377                    1                      18   \n",
       "mean       NaN    NaN                  NaN                     NaN   \n",
       "std        NaN    NaN                  NaN                     NaN   \n",
       "min        NaN    NaN                  NaN                     NaN   \n",
       "25%        NaN    NaN                  NaN                     NaN   \n",
       "50%        NaN    NaN                  NaN                     NaN   \n",
       "75%        NaN    NaN                  NaN                     NaN   \n",
       "max        NaN    NaN                  NaN                     NaN   \n",
       "\n",
       "                      cast        country       date_added  release_year  \\\n",
       "count                 7069           7280             7777   7787.000000   \n",
       "unique                6831            681             1565           NaN   \n",
       "top     David Attenborough  United States  January 1, 2020           NaN   \n",
       "freq                    18           2555              118           NaN   \n",
       "mean                   NaN            NaN              NaN   2013.932580   \n",
       "std                    NaN            NaN              NaN      8.757395   \n",
       "min                    NaN            NaN              NaN   1925.000000   \n",
       "25%                    NaN            NaN              NaN   2013.000000   \n",
       "50%                    NaN            NaN              NaN   2017.000000   \n",
       "75%                    NaN            NaN              NaN   2018.000000   \n",
       "max                    NaN            NaN              NaN   2021.000000   \n",
       "\n",
       "       rating  duration      listed_in  \\\n",
       "count    7780      7787           7787   \n",
       "unique     14       216            492   \n",
       "top     TV-MA  1 Season  Documentaries   \n",
       "freq     2863      1608            334   \n",
       "mean      NaN       NaN            NaN   \n",
       "std       NaN       NaN            NaN   \n",
       "min       NaN       NaN            NaN   \n",
       "25%       NaN       NaN            NaN   \n",
       "50%       NaN       NaN            NaN   \n",
       "75%       NaN       NaN            NaN   \n",
       "max       NaN       NaN            NaN   \n",
       "\n",
       "                                              description  \n",
       "count                                                7787  \n",
       "unique                                               7769  \n",
       "top     A surly septuagenarian gets another chance at ...  \n",
       "freq                                                    3  \n",
       "mean                                                  NaN  \n",
       "std                                                   NaN  \n",
       "min                                                   NaN  \n",
       "25%                                                   NaN  \n",
       "50%                                                   NaN  \n",
       "75%                                                   NaN  \n",
       "max                                                   NaN  "
      ]
     },
     "execution_count": 6,
     "metadata": {},
     "output_type": "execute_result"
    }
   ],
   "source": [
    "#statistical summary of the dataframe\n",
    "df.describe(include=\"all\")"
   ]
  },
  {
   "cell_type": "code",
   "execution_count": 7,
   "id": "structural-accent",
   "metadata": {},
   "outputs": [
    {
     "data": {
      "text/plain": [
       "show_id         7787\n",
       "type               2\n",
       "title           7787\n",
       "director        4049\n",
       "cast            6831\n",
       "country          681\n",
       "date_added      1565\n",
       "release_year      73\n",
       "rating            14\n",
       "duration         216\n",
       "listed_in        492\n",
       "description     7769\n",
       "dtype: int64"
      ]
     },
     "execution_count": 7,
     "metadata": {},
     "output_type": "execute_result"
    }
   ],
   "source": [
    "#checking number of unique entries/observations\n",
    "df.nunique()"
   ]
  },
  {
   "cell_type": "markdown",
   "id": "414421f9",
   "metadata": {},
   "source": [
    "## Data Cleaning"
   ]
  },
  {
   "cell_type": "code",
   "execution_count": 8,
   "id": "sized-swift",
   "metadata": {},
   "outputs": [
    {
     "data": {
      "text/plain": [
       "show_id            0\n",
       "type               0\n",
       "title              0\n",
       "director        2389\n",
       "cast             718\n",
       "country          507\n",
       "date_added        10\n",
       "release_year       0\n",
       "rating             7\n",
       "duration           0\n",
       "listed_in          0\n",
       "description        0\n",
       "dtype: int64"
      ]
     },
     "execution_count": 8,
     "metadata": {},
     "output_type": "execute_result"
    }
   ],
   "source": [
    "#checking for missing values\n",
    "df.isna().sum()"
   ]
  },
  {
   "cell_type": "code",
   "execution_count": 9,
   "id": "fc821a6e",
   "metadata": {},
   "outputs": [],
   "source": [
    "#filling nan values for different columns\n",
    "df['director']=df['director'].fillna('unknown')\n",
    "df['cast']=df['cast'].fillna('unknown')\n",
    "df['date_added']=df['date_added'].fillna('not specified')\n",
    "\n",
    "#dropping rows with missing columns \n",
    "df.dropna(subset=['country', 'rating'], axis=0, inplace= True)"
   ]
  },
  {
   "cell_type": "code",
   "execution_count": 10,
   "id": "16fb00bc",
   "metadata": {},
   "outputs": [
    {
     "data": {
      "text/plain": [
       "show_id         0\n",
       "type            0\n",
       "title           0\n",
       "director        0\n",
       "cast            0\n",
       "country         0\n",
       "date_added      0\n",
       "release_year    0\n",
       "rating          0\n",
       "duration        0\n",
       "listed_in       0\n",
       "description     0\n",
       "dtype: int64"
      ]
     },
     "execution_count": 10,
     "metadata": {},
     "output_type": "execute_result"
    }
   ],
   "source": [
    "#checking to see if all nan values have been replaced\n",
    "df.isnull().sum() "
   ]
  },
  {
   "cell_type": "markdown",
   "id": "46181b10",
   "metadata": {},
   "source": [
    "## Exploratory Data Analysis"
   ]
  },
  {
   "cell_type": "code",
   "execution_count": 11,
   "id": "43611c75",
   "metadata": {},
   "outputs": [
    {
     "data": {
      "text/html": [
       "<div>\n",
       "<style scoped>\n",
       "    .dataframe tbody tr th:only-of-type {\n",
       "        vertical-align: middle;\n",
       "    }\n",
       "\n",
       "    .dataframe tbody tr th {\n",
       "        vertical-align: top;\n",
       "    }\n",
       "\n",
       "    .dataframe thead th {\n",
       "        text-align: right;\n",
       "    }\n",
       "</style>\n",
       "<table border=\"1\" class=\"dataframe\">\n",
       "  <thead>\n",
       "    <tr style=\"text-align: right;\">\n",
       "      <th></th>\n",
       "      <th>rating</th>\n",
       "      <th>count</th>\n",
       "    </tr>\n",
       "  </thead>\n",
       "  <tbody>\n",
       "    <tr>\n",
       "      <th>0</th>\n",
       "      <td>TV-MA</td>\n",
       "      <td>2704</td>\n",
       "    </tr>\n",
       "    <tr>\n",
       "      <th>1</th>\n",
       "      <td>TV-14</td>\n",
       "      <td>1795</td>\n",
       "    </tr>\n",
       "    <tr>\n",
       "      <th>2</th>\n",
       "      <td>TV-PG</td>\n",
       "      <td>741</td>\n",
       "    </tr>\n",
       "    <tr>\n",
       "      <th>3</th>\n",
       "      <td>R</td>\n",
       "      <td>663</td>\n",
       "    </tr>\n",
       "    <tr>\n",
       "      <th>4</th>\n",
       "      <td>PG-13</td>\n",
       "      <td>383</td>\n",
       "    </tr>\n",
       "    <tr>\n",
       "      <th>5</th>\n",
       "      <td>PG</td>\n",
       "      <td>244</td>\n",
       "    </tr>\n",
       "    <tr>\n",
       "      <th>6</th>\n",
       "      <td>TV-Y7</td>\n",
       "      <td>221</td>\n",
       "    </tr>\n",
       "    <tr>\n",
       "      <th>7</th>\n",
       "      <td>TV-Y</td>\n",
       "      <td>210</td>\n",
       "    </tr>\n",
       "    <tr>\n",
       "      <th>8</th>\n",
       "      <td>TV-G</td>\n",
       "      <td>177</td>\n",
       "    </tr>\n",
       "    <tr>\n",
       "      <th>9</th>\n",
       "      <td>NR</td>\n",
       "      <td>84</td>\n",
       "    </tr>\n",
       "    <tr>\n",
       "      <th>10</th>\n",
       "      <td>G</td>\n",
       "      <td>39</td>\n",
       "    </tr>\n",
       "    <tr>\n",
       "      <th>11</th>\n",
       "      <td>TV-Y7-FV</td>\n",
       "      <td>5</td>\n",
       "    </tr>\n",
       "    <tr>\n",
       "      <th>12</th>\n",
       "      <td>UR</td>\n",
       "      <td>5</td>\n",
       "    </tr>\n",
       "    <tr>\n",
       "      <th>13</th>\n",
       "      <td>NC-17</td>\n",
       "      <td>3</td>\n",
       "    </tr>\n",
       "  </tbody>\n",
       "</table>\n",
       "</div>"
      ],
      "text/plain": [
       "      rating  count\n",
       "0      TV-MA   2704\n",
       "1      TV-14   1795\n",
       "2      TV-PG    741\n",
       "3          R    663\n",
       "4      PG-13    383\n",
       "5         PG    244\n",
       "6      TV-Y7    221\n",
       "7       TV-Y    210\n",
       "8       TV-G    177\n",
       "9         NR     84\n",
       "10         G     39\n",
       "11  TV-Y7-FV      5\n",
       "12        UR      5\n",
       "13     NC-17      3"
      ]
     },
     "execution_count": 11,
     "metadata": {},
     "output_type": "execute_result"
    }
   ],
   "source": [
    "#creating a new dataframe called rating_count\n",
    "rating_count=pd.DataFrame(df['rating'].value_counts()).reset_index(inplace=False) \n",
    "rating_count.columns=['rating','count']\n",
    "rating_count"
   ]
  },
  {
   "cell_type": "code",
   "execution_count": 12,
   "id": "3cd1d62b",
   "metadata": {},
   "outputs": [
    {
     "data": {
      "text/plain": [
       "Text(0.5, 1.0, 'Content Ratings on Netflix')"
      ]
     },
     "execution_count": 12,
     "metadata": {},
     "output_type": "execute_result"
    },
    {
     "data": {
      "image/png": "[encoded data removed]",
      "text/plain": [
       "<Figure size 1080x504 with 1 Axes>"
      ]
     },
     "metadata": {},
     "output_type": "display_data"
    }
   ],
   "source": [
    "#visualizing the ratings on the netflix dataset\n",
    "sns.set(rc={'figure.figsize':(15,7)})\n",
    "ax=sns.barplot(data=rating_count,x='rating',y='count')\n",
    "ax.set_title(\"Content Ratings on Netflix\")\n",
    "#plt.savefig('Content Ratings.png')"
   ]
  },
  {
   "cell_type": "code",
   "execution_count": 13,
   "id": "797f90fd",
   "metadata": {},
   "outputs": [
    {
     "data": {
      "image/png": "[encoded data removed]",
      "text/plain": [
       "<Figure size 1080x504 with 1 Axes>"
      ]
     },
     "metadata": {},
     "output_type": "display_data"
    }
   ],
   "source": [
    "#Checking the content types in each rating \n",
    "sns.set_style(style = 'whitegrid')\n",
    "sns.set(rc={'figure.figsize':(15,7)})\n",
    "ax = sns.countplot(data = df, x= 'rating',hue = 'type', palette='Set2')\n",
    "ax.set_title('Content Type Ratings')\n",
    "ax.set_xlabel('Rating')\n",
    "ax.set_ylabel('count');"
   ]
  },
  {
   "cell_type": "markdown",
   "id": "81c22620",
   "metadata": {},
   "source": [
    "From the data it shows that a larger percentage of movies and TV shows on netflix are rated TV-MA (i.e. contain  graphic sexual contents,graphic violence and foul languages."
   ]
  },
  {
   "cell_type": "code",
   "execution_count": 14,
   "id": "84e9ced5",
   "metadata": {},
   "outputs": [
    {
     "data": {
      "text/plain": [
       "title\n",
       "23:59                                            Singapore\n",
       "National Treasure                            United States\n",
       "Scarecrow                                            Egypt\n",
       "Holiday Secrets                                    Germany\n",
       "Frozen River                                 United States\n",
       "Fallen                                       United States\n",
       "Power Rangers Samurai                        United States\n",
       "The Book of Eli                              United States\n",
       "Love for Sale 2                                  Indonesia\n",
       "Possessed                                      South Korea\n",
       "The Smurfs 2                                 United States\n",
       "Madras Café                                          India\n",
       "Under the Bombs                             United Kingdom\n",
       "Enter the Warriors Gate                           Cambodia\n",
       "All The Reasons To Forget                           Brazil\n",
       "Immortal Classic                               South Korea\n",
       "Bhasmasur                                            India\n",
       "Tramps                                       United States\n",
       "Nate Bargatze: The Tennessee Kid             United States\n",
       "Cyborg 009: Call of Justice                          Japan\n",
       "The World Is Not Enough                      United States\n",
       "Ghost in the Shell: SAC_2045                         Japan\n",
       "Hoodwinked Too! Hood vs. Evil                United States\n",
       "Mischief                                             India\n",
       "Bad Match                                        Singapore\n",
       "My True Friend                                    Thailand\n",
       "Days We Stared at the Sun                           Taiwan\n",
       "Marching Orders                              United States\n",
       "Shark Night                                  United States\n",
       "We Are Legends                                   Hong Kong\n",
       "Brain on Fire                                      Ireland\n",
       "Headwinds                                          Belgium\n",
       "Natural Selection                            United States\n",
       "Final Destination 3                          United States\n",
       "Pawn Stars                                   United States\n",
       "Rainbow Ruby                                 United States\n",
       "Stripes                                      United States\n",
       "The Boy Who Cried Werewolf                          Canada\n",
       "Defiance                                     United States\n",
       "Bobby Sands: 66 Days                               Ireland\n",
       "One-Way to Tomorrow                                 Turkey\n",
       "Trikal (Past, Present, Future)                       India\n",
       "Life Story                                  United Kingdom\n",
       "Kaminey                                              India\n",
       "The Right One                                        Egypt\n",
       "ZZ TOP: THAT LITTLE OL' BAND FROM TEXAS      United States\n",
       "The Most Assassinated Woman in the World    United Kingdom\n",
       "She                                                  India\n",
       "Saving Mr. Banks                             United States\n",
       "My Week with Marilyn                        United Kingdom\n",
       "dtype: object"
      ]
     },
     "execution_count": 14,
     "metadata": {},
     "output_type": "execute_result"
    }
   ],
   "source": [
    "#creating a new dataframe and splitting the country column to contain one country for each movie/Tv show\n",
    "countries =df.set_index('title').country.str.split(', ', expand=True).stack().reset_index(level=1, drop=True)\n",
    "countries.sample(50)"
   ]
  },
  {
   "cell_type": "code",
   "execution_count": 15,
   "id": "567e2b76",
   "metadata": {},
   "outputs": [
    {
     "data": {
      "image/png": "[encoded data removed]",
      "text/plain": [
       "<Figure size 1080x504 with 1 Axes>"
      ]
     },
     "metadata": {},
     "output_type": "display_data"
    }
   ],
   "source": [
    "#visualizing countries with highest tv/movie production\n",
    "ax=sns.countplot(y=countries,order=countries.value_counts().index[:10])\n",
    "ax.set_title('Top 10 Countries with Movie/TV shows on Netflix')\n",
    "ax.set_xlabel('counts')\n",
    "ax.set_ylabel('Country');"
   ]
  },
  {
   "cell_type": "markdown",
   "id": "82a90c12",
   "metadata": {},
   "source": [
    "The above visualisation shows the top ten countries whose productions are featured on Netflix with the United States having the highest number of productions being featured"
   ]
  },
  {
   "cell_type": "code",
   "execution_count": 16,
   "id": "117bd19f",
   "metadata": {},
   "outputs": [
    {
     "data": {
      "text/plain": [
       "title\n",
       "3%                                         International TV Shows\n",
       "3%                                                      TV Dramas\n",
       "3%                                            TV Sci-Fi & Fantasy\n",
       "7:19                                                       Dramas\n",
       "7:19                                         International Movies\n",
       "                                                    ...          \n",
       "Zubaan                                           Music & Musicals\n",
       "Zumbo's Just Desserts                      International TV Shows\n",
       "Zumbo's Just Desserts                                  Reality TV\n",
       "ZZ TOP: THAT LITTLE OL' BAND FROM TEXAS             Documentaries\n",
       "ZZ TOP: THAT LITTLE OL' BAND FROM TEXAS          Music & Musicals\n",
       "Length: 16053, dtype: object"
      ]
     },
     "execution_count": 16,
     "metadata": {},
     "output_type": "execute_result"
    }
   ],
   "source": [
    "#Categories of content mostly shown on Netflix\n",
    "category=df.set_index('title').listed_in.str.split(', ', expand=True).stack().reset_index(level=1, drop=True);\n",
    "category"
   ]
  },
  {
   "cell_type": "code",
   "execution_count": 17,
   "id": "2c0460be",
   "metadata": {},
   "outputs": [
    {
     "data": {
      "image/png": "[encoded data removed]",
      "text/plain": [
       "<Figure size 1080x504 with 1 Axes>"
      ]
     },
     "metadata": {},
     "output_type": "display_data"
    }
   ],
   "source": [
    "#visualizing categories of movies mostly shown on Netflix\n",
    "ax=sns.countplot(y=category,order=category.value_counts().index[:15])\n",
    "ax.set_title('Categories of Movies/Shows on Netflix')\n",
    "ax.set_xlabel('counts')\n",
    "ax.set_ylabel('category');\n"
   ]
  },
  {
   "cell_type": "markdown",
   "id": "ac5c67ed",
   "metadata": {},
   "source": [
    "International movies are mostly shown on netflix.This is followed by Dramas and Comedies.The reason is because there are currently more Netflix subscribers internationally than within USA.\n",
    "\n",
    "As the rules of supply and demand go, it implies that there ought to be a greater proportion of films that satisfy international audiences."
   ]
  },
  {
   "cell_type": "code",
   "execution_count": 18,
   "id": "54863904",
   "metadata": {},
   "outputs": [
    {
     "data": {
      "image/png": "[encoded data removed]",
      "text/plain": [
       "<Figure size 1080x504 with 1 Axes>"
      ]
     },
     "metadata": {},
     "output_type": "display_data"
    }
   ],
   "source": [
    "#giving the percentage value of contents shown on Netflix\n",
    "Content_type = df['type'].value_counts(normalize=True)*100\n",
    "Content_type\n",
    "\n",
    "#visualising using a pie chart\n",
    "labels = Content_type.keys() # get labels from perc\n",
    "plt.pie(x=Content_type, autopct=\"%.1f%%\", explode=[0.02]*2, labels=labels, pctdistance=0.5)\n",
    "plt.title(\"Type Percentage\");"
   ]
  },
  {
   "cell_type": "markdown",
   "id": "4ef7b15c",
   "metadata": {},
   "source": [
    "70.7% of Netflix content are movies while 29.3% are TV shows"
   ]
  },
  {
   "cell_type": "code",
   "execution_count": 19,
   "id": "8176a4ef",
   "metadata": {},
   "outputs": [
    {
     "data": {
      "image/png": "[encoded data removed]",
      "text/plain": [
       "<Figure size 1080x576 with 1 Axes>"
      ]
     },
     "metadata": {},
     "output_type": "display_data"
    }
   ],
   "source": [
    "df_1= df[df['type'] == 'TV Show'].groupby('release_year').count()[-50:-1]\n",
    "df_2 =df[df['type'] == 'Movie'].groupby('release_year').count()[-50:-1]\n",
    "df_3 =df.groupby('release_year').count()[-50:-1]\n",
    "\n",
    "\n",
    "plt.figure(figsize = (15,8))\n",
    "sns.set_style('darkgrid')\n",
    "sns.lineplot(data = df_1['show_id'],palette = 'Set2')\n",
    "sns.lineplot(data = df_2['show_id'],palette = 'Set2')\n",
    "sns.lineplot(data = df_3['show_id'],palette = 'Set2')\n",
    "plt.title('Content Release per Year')\n",
    "plt.xlabel('Year')\n",
    "plt.ylabel('Number of Content')\n",
    "plt.legend(['TV', 'Movie','Total'], fontsize='large');"
   ]
  },
  {
   "cell_type": "code",
   "execution_count": 20,
   "id": "ecc284f5",
   "metadata": {},
   "outputs": [
    {
     "data": {
      "image/png": "[encoded data removed]",
      "text/plain": [
       "<Figure size 1080x504 with 4 Axes>"
      ]
     },
     "metadata": {},
     "output_type": "display_data"
    }
   ],
   "source": [
    "fig, axes =plt.subplots(2,2)\n",
    "axes[0,0].hist(df['release_year'])\n",
    "axes[0,1].hist(df['duration'])\n",
    "axes[1,0].hist(df['rating'])\n",
    "axes[1,1].scatter(df['type'],df['rating']);"
   ]
  },
  {
   "cell_type": "code",
   "execution_count": 37,
   "id": "tracked-voluntary",
   "metadata": {},
   "outputs": [],
   "source": [
    "# creating the tfidf vectorizer\n",
    "tfidf_vectorizer = TfidfVectorizer(stop_words = 'english')"
   ]
  },
  {
   "cell_type": "code",
   "execution_count": 38,
   "id": "governmental-psychology",
   "metadata": {},
   "outputs": [],
   "source": [
    "# filling null values with empty descriptions\n",
    "df_movies['description'] = df_movies['description'].fillna('')"
   ]
  },
  {
   "cell_type": "code",
   "execution_count": 39,
   "id": "focused-eligibility",
   "metadata": {},
   "outputs": [
    {
     "data": {
      "text/plain": [
       "(5143, 14229)"
      ]
     },
     "execution_count": 39,
     "metadata": {},
     "output_type": "execute_result"
    }
   ],
   "source": [
    "tfidf_matrix = tfidf_vectorizer.fit_transform(df_movies['description'])\n",
    "tfidf_matrix.shape"
   ]
  },
  {
   "cell_type": "code",
   "execution_count": 40,
   "id": "harmful-corpus",
   "metadata": {},
   "outputs": [],
   "source": [
    "# creating the linear kernel for getting the cosine similarity\n",
    "cosine_similarity = linear_kernel(tfidf_matrix,tfidf_matrix)"
   ]
  },
  {
   "cell_type": "code",
   "execution_count": 41,
   "id": "concrete-comfort",
   "metadata": {},
   "outputs": [
    {
     "data": {
      "text/plain": [
       "(5143,)"
      ]
     },
     "execution_count": 41,
     "metadata": {},
     "output_type": "execute_result"
    }
   ],
   "source": [
    "movies = pd.Series(df_movies.index,index=df_movies['title'])\n",
    "movies.shape"
   ]
  },
  {
   "cell_type": "code",
   "execution_count": 70,
   "id": "thrown-quality",
   "metadata": {},
   "outputs": [],
   "source": [
    "def get_movie_recommendations(title, cosine_similarity=cosine_similarity):\n",
    "    try:\n",
    "        index=movies[title]\n",
    "    except KeyError:\n",
    "        print(\"Oops, we couldn't find that movie\\nCheck out these movies instead\")\n",
    "        return df_movies.sample(n=5)\n",
    "    similarity_scores=list(enumerate(cosine_similarity[index]))\n",
    "    similarity_scores=sorted(similarity_scores, key=lambda x:x[1], reverse=True)\n",
    "    similarity_scores=similarity_scores[1:11]\n",
    "    movie_indices = [i[0] for i in similarity_scores]\n",
    "    return df_movies['title'].iloc[movie_indices]"
   ]
  },
  {
   "cell_type": "code",
   "execution_count": 74,
   "id": "departmental-clearing",
   "metadata": {},
   "outputs": [
    {
     "data": {
      "text/plain": [
       "1997             Indiana Jones and the Temple of Doom\n",
       "1996    Indiana Jones and the Raiders of the Lost Ark\n",
       "1995               Indiana Jones and the Last Crusade\n",
       "3303                                    Psychokinesis\n",
       "2705                                 Midnight Special\n",
       "4012                                          The 2nd\n",
       "2627       Marvel Super Hero Adventures: Frost Fight!\n",
       "3961                                        Tamanchey\n",
       "1218                                      Don Verdean\n",
       "315                             All The Bright Places\n",
       "Name: title, dtype: object"
      ]
     },
     "execution_count": 74,
     "metadata": {},
     "output_type": "execute_result"
    }
   ],
   "source": [
    "get_movie_recommendations('Indiana Jones and the Kingdom of the Crystal Skull')"
   ]
  },
  {
   "cell_type": "code",
   "execution_count": 58,
   "id": "018f1f61",
   "metadata": {},
   "outputs": [],
   "source": [
    "def get_a_movie():\n",
    "    title = input(\"Enter a movie name\\n\")\n",
    "    return get_movie_recommendations(title)"
   ]
  },
  {
   "cell_type": "code",
   "execution_count": 57,
   "id": "colored-locator",
   "metadata": {},
   "outputs": [
    {
     "name": "stdout",
     "output_type": "stream",
     "text": [
      "Enter a movie nameIndiana Jones and the Kingdom of the Crystal Skull\n"
     ]
    },
    {
     "data": {
      "text/plain": [
       "1997             Indiana Jones and the Temple of Doom\n",
       "1996    Indiana Jones and the Raiders of the Lost Ark\n",
       "1995               Indiana Jones and the Last Crusade\n",
       "3303                                    Psychokinesis\n",
       "2705                                 Midnight Special\n",
       "4012                                          The 2nd\n",
       "2627       Marvel Super Hero Adventures: Frost Fight!\n",
       "3961                                        Tamanchey\n",
       "1218                                      Don Verdean\n",
       "315                             All The Bright Places\n",
       "Name: title, dtype: object"
      ]
     },
     "execution_count": 57,
     "metadata": {},
     "output_type": "execute_result"
    }
   ],
   "source": [
    "get_a_movie()"
   ]
  }
 ],
 "metadata": {
  "kernelspec": {
   "display_name": "Python 3",
   "language": "python",
   "name": "python3"
  },
  "language_info": {
   "codemirror_mode": {
    "name": "ipython",
    "version": 3
   },
   "file_extension": ".py",
   "mimetype": "text/x-python",
   "name": "python",
   "nbconvert_exporter": "python",
   "pygments_lexer": "ipython3",
   "version": "3.8.8"
  }
 },
 "nbformat": 4,
 "nbformat_minor": 5
}
